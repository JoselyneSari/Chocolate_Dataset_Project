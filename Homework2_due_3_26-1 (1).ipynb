{
 "cells": [
  {
   "cell_type": "markdown",
   "id": "ee3f5e4a",
   "metadata": {},
   "source": [
    "#  <center> Homework 2 - Due on March 26 </center>"
   ]
  },
  {
   "cell_type": "markdown",
   "id": "6a5f9219",
   "metadata": {},
   "source": [
    "### Question 1\n",
    "#### a) Read the file birthweight.csv in Pandas using my_data = pd.read_csv('birthweight.csv', skipinitialspace = True) command\n",
    "This data has various characteristics about newborn baby and his or her parents. <font color = \"red\">You will need the variable names to answer further questions. </font>\n",
    "The variable names (in brief) are: row id (id), head circumference (headcircumference), length of baby (length), weight of baby (Birthweight), gestation in months (Gestation), if mother smokes (smoker), age of mother (motherage), number of cigarettes mother smokes per day (mnocig), mother height (mheight), mother prepregnancy weight (mppwt), father age (fage), father education years (fedyrs), number of cigarettes father smokes per day (fnocig), father height (fheight), low birthweith represented as 0 or 1 (lowbwt), mother 35 or older represented as 0 or 1 (mage35), and if birth weight is low or normal (LowBirthWeight).\n",
    "#### Write commands to perform the following tasks\n",
    "#### b) Display first 8 rows\n",
    "#### c) Find the number of rows and columns\n",
    "#### d) Display the column names\n",
    "#### e) Find the data type of each column\n",
    "#### f) Remove all special characters from column names\n",
    "#### g) Convert all column names to lowercase\n",
    "#### h) Remove nonnumeric characters from the column headcircumference and convert data into numeric type\n",
    "#### i) Remove nonnumeric characters from the column gestation and convert data into numeric type\n",
    "\n"
   ]
  },
  {
   "cell_type": "code",
   "execution_count": 49,
   "id": "3c634def",
   "metadata": {},
   "outputs": [
    {
     "name": "stdout",
     "output_type": "stream",
     "text": [
      "<class 'pandas.core.frame.DataFrame'>\n",
      "RangeIndex: 42 entries, 0 to 41\n",
      "Data columns (total 17 columns):\n",
      " #   Column            Non-Null Count  Dtype  \n",
      "---  ------            --------------  -----  \n",
      " 0   id                42 non-null     int64  \n",
      " 1   headcirumference  42 non-null     int64  \n",
      " 2   length            42 non-null     int64  \n",
      " 3   birthweight       42 non-null     float64\n",
      " 4   gestation         42 non-null     int64  \n",
      " 5   smoker            42 non-null     int64  \n",
      " 6   motherage         42 non-null     int64  \n",
      " 7   mnocig            42 non-null     int64  \n",
      " 8   mheight           42 non-null     int64  \n",
      " 9   mppwt             42 non-null     int64  \n",
      " 10  fage              42 non-null     int64  \n",
      " 11  fedyrs            42 non-null     int64  \n",
      " 12  fnocig            42 non-null     int64  \n",
      " 13  fheight           42 non-null     int64  \n",
      " 14  lowbwt            42 non-null     int64  \n",
      " 15  mage35            42 non-null     int64  \n",
      " 16  lowbirthweight    42 non-null     object \n",
      "dtypes: float64(1), int64(15), object(1)\n",
      "memory usage: 5.7+ KB\n"
     ]
    }
   ],
   "source": [
    "# answer 1a\n",
    "import numpy as np\n",
    "import pandas as pd\n",
    "df = pd.read_csv('birthweight.csv', skipinitialspace = True)\n",
    "\n",
    "\n",
    "df.columns = df.columns.str.replace('[^0-9a-zA-Z]','',regex = True)\n",
    "df.columns\n",
    "\n",
    "df.columns = df.columns.str.lower()\n",
    "df.columns\n",
    "\n",
    "df['headcirumference'] = pd.to_numeric(df['headcirumference'].str.replace('[^0-9]','',regex = True))\n",
    "df['gestation'] = pd.to_numeric(df['gestation'].str.replace('[^0-9]','',regex = True))\n",
    "\n",
    "df.info()"
   ]
  },
  {
   "cell_type": "markdown",
   "id": "baa749ea",
   "metadata": {},
   "source": [
    "### Question 2\n",
    "#### a) Use column names to create a subset with the variables length of baby, birth weight of baby, if mom is smoker (smoker), number of cigarette smoked per day by mom (mnocig) and if the birth weight is low or normal (last column)\n",
    "#### b) Create the same subset as in 'a' above using column index instead of column name\n",
    "#### c) Create a subset with first to tenth rows and second, fourth, sixth, eighth, and 10th column\n",
    "#### d) Select rows where motherage < 30\n",
    "#### e) Select rows where motherage > 30 and fage > 30\n",
    "#### f)  Create subset with the columns id, mom number of cigarette (mnocig), dad number of cigarette (fnocig), Gestation, and LowBirthWeight including all the rows with motherage < 30"
   ]
  },
  {
   "cell_type": "code",
   "execution_count": null,
   "id": "70dcd3df",
   "metadata": {},
   "outputs": [],
   "source": [
    "# answer 2a\n",
    "#\n",
    "\n",
    "\n",
    "# answer 2b...\n",
    "\n",
    "\n"
   ]
  },
  {
   "cell_type": "markdown",
   "id": "b7eb8ded",
   "metadata": {},
   "source": [
    "### Question 3\n",
    "#### Use groupby() commands to find the following:\n",
    "#### a) Mean number of cigarettes smoked by mother for all categories of LowBirthWeight\n",
    "#### b) Mean number of cigarettes smoked by father for all categories of LowBirthWeight\n",
    "#### c) Mean BirthWeight of baby where mom is smoker\n",
    "#### d) Mean BirthWeight of baby where dad is a smoker # tricky question\n",
    "#### e) Mean BirthWeight and mean Gestation period for both LowBirthWeight categories (Low and Normal)"
   ]
  },
  {
   "cell_type": "code",
   "execution_count": null,
   "id": "2dfc457e",
   "metadata": {},
   "outputs": [],
   "source": [
    "# answer 3a\n",
    "#\n",
    "\n",
    "# answer 3b...\n",
    "#"
   ]
  },
  {
   "cell_type": "markdown",
   "id": "b24fb8c5",
   "metadata": {},
   "source": [
    "### Question 4\n",
    "\n",
    "#### Write a function named my_stat that takes five numbers as input. Your function should return minimum, mean, median, standard deviation, first quartile (use the function quantile(0.25)), second quartile, third quartile, and maximum. Take the following code as hint which takes 2 numbers as input and returns the mean:\n",
    "\n",
    "def my_stat(a, b):\n",
    "           <p>&emsp;my_series = pd.Series([a, b])</p>\n",
    "           <p>&emsp;my_mean = my_series.mean()</p>\n",
    "           <p>&emsp;return my_mean</p>\n",
    "           </br>\n",
    "           </br>\n",
    "           my_stat(5,10)\n",
    "\n"
   ]
  },
  {
   "cell_type": "code",
   "execution_count": null,
   "id": "335be5bd",
   "metadata": {},
   "outputs": [],
   "source": [
    "# answer 4a\n",
    "#\n",
    "\n",
    "# answer 4b...\n",
    "#"
   ]
  },
  {
   "cell_type": "markdown",
   "id": "b00ffe2b",
   "metadata": {},
   "source": [
    "### Question 5\n",
    "#### a) Create the following DataFrame in Pandas. First create dictionary and then convert the dictionary into DataFrame.\n",
    "\n",
    "<table>\n",
    "  <thead>\n",
    "    <tr>\n",
    "      <th>Name</th>\n",
    "      <th>Position</th>\n",
    "      <th>Salary</th>\n",
    "      <th>Education</th>\n",
    "    </tr>\n",
    "  </thead>\n",
    "  <tbody>\n",
    "    <tr>\n",
    "      <td>Julio</td>\n",
    "      <td>Accountant</td>\n",
    "      <td>65000</td>\n",
    "      <td>Undergraduate</td>\n",
    "    </tr>\n",
    "    <tr>\n",
    "      <td>Isabella</td>\n",
    "      <td>Developer</td>\n",
    "      <td>80000</td>\n",
    "      <td>Graduate</td>\n",
    "    </tr>\n",
    "    <tr>\n",
    "      <td>Diego</td>\n",
    "      <td>Data Analyst</td>\n",
    "      <td>45000</td>\n",
    "      <td>Associate</td>\n",
    "    </tr>\n",
    "    <tr>\n",
    "      <td>Michael</td>\n",
    "      <td>Marketing Specialist</td>\n",
    "      <td>85000</td>\n",
    "      <td>Graduate</td>\n",
    "    </tr>\n",
    "    <tr>\n",
    "      <td>Luis</td>\n",
    "      <td>Administrative Assistant</td>\n",
    "      <td>35000</td>\n",
    "      <td>High School</td>\n",
    "    </tr>\n",
    "    <tr>\n",
    "      <td>Carmen</td>\n",
    "      <td>Data Analyst</td>\n",
    "      <td>90000</td>\n",
    "      <td>Graduate</td>\n",
    "    </tr>\n",
    "    <tr>\n",
    "      <td>Alejandro</td>\n",
    "      <td>Developer</td>\n",
    "      <td>70000</td>\n",
    "      <td>Undergraduate</td>\n",
    "    </tr>\n",
    "  </tbody>\n",
    "</table>\n",
    "\n",
    "#### Write code to generate a subset of the DataFrame that contains the specified data:\n",
    "#### b) Second and fifth row, first and third column\n",
    "#### c) Everyone with graduate degree\n",
    "#### d) Average salary of graduate degree\n",
    "#### e) Sort the data such that the columns are listed in ascending order (based on column name)\n",
    "#### f) Sort the data based on two columns: Ascending order of Education and Descending order of Salary\n",
    "#### g) Display rows where Education is either High School, Associate, or Undergraduate\n",
    "\n"
   ]
  },
  {
   "cell_type": "code",
   "execution_count": null,
   "id": "e070200d",
   "metadata": {},
   "outputs": [],
   "source": [
    "# answer 5a\n",
    "\n",
    "# answer 5b ..."
   ]
  },
  {
   "cell_type": "markdown",
   "id": "15b4056f",
   "metadata": {},
   "source": [
    "### Instructions for Question 6 - 15\n",
    "The datafile retaildata_res.csv includes the daily transaction of a fast-food restaurant. It has the following variables:\n",
    "Storecustomers: number of customers visiting the fast-food store\n",
    "<br> \n",
    "<br> SNWD: depth of snow in the ground\n",
    "<br> Month/Day: month and day of transaction\n",
    "<br> TAVG: average temperature\n",
    "<br> TMAX: maximum temperature\n",
    "<br> TMIN: minimum temperature\n",
    "<br> Deliveries: number of home deliveries made by the restaurant\n",
    "<br> Snowonground: if there was snow accumulation on ground (yes/no) \n",
    "\n",
    "<br> For most questions, you have to write a few lines commenting/describing your plot. Please do so as comment in your python code.\n",
    "\n",
    "<br>\n",
    "\n",
    "#### Import pandas, matplotlib.pyplot and seaborn and then read the retaildata_res.csv dataset:\n",
    "\n",
    "<br> \n",
    "<br> import pandas as pd\n",
    "<br> import matplotlib.pyplot as plt\n",
    "<br> import seaborn as sns\n",
    "<br> my_data = pd.read_csv(\"retaildata_res.csv\")\n",
    "<br> my_data.info()\n",
    "<br> \n"
   ]
  },
  {
   "cell_type": "markdown",
   "id": "f8e18033",
   "metadata": {},
   "source": [
    "### Question 6\n",
    "\n",
    "#### Create a boxplot for Deliveries.  Comment on the distribution of number of deliveries made based on your boxplot."
   ]
  },
  {
   "cell_type": "code",
   "execution_count": null,
   "id": "dddf4a0c",
   "metadata": {},
   "outputs": [],
   "source": [
    "# importing libraries and reading file - Use the hint above\n",
    "# \n",
    "\n",
    "# ans 6\n"
   ]
  },
  {
   "cell_type": "markdown",
   "id": "92721e54",
   "metadata": {},
   "source": [
    "### Question 7\n",
    "\n",
    "#### Create boxplot for Deliveries for different days of the week (Day). How does the Deliveries differ for different days of the week?"
   ]
  },
  {
   "cell_type": "code",
   "execution_count": null,
   "id": "b235203f",
   "metadata": {},
   "outputs": [],
   "source": [
    "# ans 7\n"
   ]
  },
  {
   "cell_type": "markdown",
   "id": "dca77cb5",
   "metadata": {},
   "source": [
    "### Question 8\n",
    "\n",
    "#### Create boxplot for Deliveries for different categories of Snowonground. How does the Deliveries differ depending on whether there is snow on ground or not?"
   ]
  },
  {
   "cell_type": "code",
   "execution_count": 1,
   "id": "6d480e90",
   "metadata": {},
   "outputs": [],
   "source": [
    "# ans 8\n"
   ]
  },
  {
   "cell_type": "markdown",
   "id": "3807a512",
   "metadata": {},
   "source": [
    "### Question 9\n",
    "\n",
    "#### Add variable Day to the plot in (8) above by passing the variable Snowonground to hue and Day to one of the axes. Comment on the relationship between the 3 variables."
   ]
  },
  {
   "cell_type": "code",
   "execution_count": 3,
   "id": "a2ada0ef",
   "metadata": {},
   "outputs": [],
   "source": [
    "# ans 9\n"
   ]
  },
  {
   "cell_type": "markdown",
   "id": "a5950a30",
   "metadata": {},
   "source": [
    "### Question 10\n",
    "\n",
    "#### Create a scatterplot of SNWD on x axis and Deliveries on y axis. Comment on the relationship between the two variables."
   ]
  },
  {
   "cell_type": "code",
   "execution_count": null,
   "id": "ce5e7988",
   "metadata": {},
   "outputs": [],
   "source": [
    "# ans 10\n"
   ]
  },
  {
   "cell_type": "markdown",
   "id": "687c8665",
   "metadata": {},
   "source": [
    "### Question 11\n",
    "\n",
    "#### Create the plot between the two variables in (10) using regplot. In what way is this plot more (or less) useful in determining the relationship between the variables?"
   ]
  },
  {
   "cell_type": "code",
   "execution_count": 5,
   "id": "fc18c1bd",
   "metadata": {},
   "outputs": [],
   "source": [
    "# ans 11\n"
   ]
  },
  {
   "cell_type": "markdown",
   "id": "9264ee69",
   "metadata": {},
   "source": [
    "### Question 12\n",
    "\n",
    "#### Create a plot that will give you some insight about the categorical variable Snowonground and describe this variable based on your plot."
   ]
  },
  {
   "cell_type": "code",
   "execution_count": 6,
   "id": "1fb50e73",
   "metadata": {},
   "outputs": [],
   "source": [
    "# answer 12\n"
   ]
  },
  {
   "cell_type": "markdown",
   "id": "4dfa71fd",
   "metadata": {},
   "source": [
    "### Question 13\n",
    "\n",
    "#### Use FacetGrid to create subplots of regplots between TAVG and Deliveries for different categories of Day and Snowonground. What can you say about the relationship between these 4 variables?\n"
   ]
  },
  {
   "cell_type": "code",
   "execution_count": 7,
   "id": "a22bce68",
   "metadata": {},
   "outputs": [],
   "source": [
    "# ans 13\n"
   ]
  },
  {
   "cell_type": "markdown",
   "id": "09110f07",
   "metadata": {},
   "source": [
    "### Question 14\n",
    "\n",
    "#### Create pairplots to illustrate the correlation between all the numerical variables. Use heatmap to enhance the correlation. Write a few sentences to describe the relationship between the numerical variables."
   ]
  },
  {
   "cell_type": "code",
   "execution_count": 8,
   "id": "39a9204b",
   "metadata": {},
   "outputs": [],
   "source": [
    "# ans 14\n"
   ]
  },
  {
   "cell_type": "markdown",
   "id": "8de2f6ee",
   "metadata": {},
   "source": [
    "### Question 15\n",
    "\n",
    "#### Create appropriate plot/s to explore the relationship between TMAX, and TMIN with Storecustomers.\n"
   ]
  },
  {
   "cell_type": "code",
   "execution_count": null,
   "id": "f0eac171",
   "metadata": {},
   "outputs": [],
   "source": [
    "# ans 15\n",
    "#"
   ]
  }
 ],
 "metadata": {
  "kernelspec": {
   "display_name": "Python [conda env:base] *",
   "language": "python",
   "name": "conda-base-py"
  },
  "language_info": {
   "codemirror_mode": {
    "name": "ipython",
    "version": 3
   },
   "file_extension": ".py",
   "mimetype": "text/x-python",
   "name": "python",
   "nbconvert_exporter": "python",
   "pygments_lexer": "ipython3",
   "version": "3.12.7"
  }
 },
 "nbformat": 4,
 "nbformat_minor": 5
}
